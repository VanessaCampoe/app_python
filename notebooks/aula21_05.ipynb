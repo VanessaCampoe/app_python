{
 "cells": [
  {
   "cell_type": "markdown",
   "id": "fbb226ad",
   "metadata": {},
   "source": [
    "# Titulo do meu notebook\n",
    "\n",
    "## Subtítulo meu notebook\n",
    "\n",
    "### Título nível 3 do meu notebook"
   ]
  },
  {
   "cell_type": "markdown",
   "id": "63f89f9a",
   "metadata": {},
   "source": [
    "Este é um texto do meu notebook.\n",
    "\n",
    "*Este texto esta em italico*\n",
    "\n",
    "** Se eu usar 2(asterisco) fica em negrito **\n",
    "\n",
    "*** Este texto esta em negrito e italico ***\n"
   ]
  },
  {
   "cell_type": "markdown",
   "id": "a8beb2e5",
   "metadata": {},
   "source": [
    "- marcador 1 \n",
    "- marcador 2\n",
    "- marcador 3\n",
    "\n",
    "1. numeração 1\n",
    "2. numeração 2\n",
    "3. numeração 3"
   ]
  },
  {
   "cell_type": "markdown",
   "id": "05ac21d6",
   "metadata": {},
   "source": [
    "Para instalar o pandas, execute o comandono `pip install pandas` terminal \n",
    "\n",
    "~~~php\n",
    "<?php\n",
    "echo\"ALÔ\":\n",
    "\n",
    "\n",
    "~~~\n",
    "Este codigo esta em SQL\n",
    "~~~SQL\n",
    "CREATE DATABESE IF NOT  EXISTE meu_banco:\n",
    "\n",
    "~~~\n",
    "\n",
    "Esta é um codigo em Java\n",
    "\n",
    "~~~java\n",
    "class Main{\n",
    "    public static void main(String[] args){\n",
    "        System.out.println(Alô, mundo!\")\n",
    "    }\n",
    "}\n",
    "\n",
    "~~~\n",
    "Entranda de dados em java :\n",
    "\n",
    "~~~java \n",
    "\n",
    "import java.util.Scanner;\n",
    "class Main {\n",
    "    public static void main(String[] args) {\n",
    "        Scanner scanner = new Scanner(System.in);\n",
    "        String nome;\n",
    "        String cpf;\n",
    "        int idade;\n",
    "\n",
    "\n",
    "        System.out.println(\"Digite seu nome:\");\n",
    "        nome = scanner.nextLine();\n",
    "       \n",
    "        System.out.println(\"Digite sua idade:\");\n",
    "        idade = scanner.nextInt();\n",
    "\n",
    "\n",
    "        sc.nextLine();     // Consumir a quebra de linha\n",
    "\n",
    "        System.out.println(\"Digite seu CPF:\");\n",
    "        cpf = scanner.nextLine();\n",
    "\n",
    "        System.out.println(\"Nome do usuario : \" + nome +\".\");\n",
    "        System.out.println(\"Idade do usuario: \" + idade +\".\");\n",
    "        System.out.println(\"CPF do usuario  : \" + cpf +\".\");\n",
    "        \n",
    "    }\n",
    "}\n"
   ]
  },
  {
   "cell_type": "markdown",
   "id": "283c4a35",
   "metadata": {},
   "source": []
  },
  {
   "cell_type": "markdown",
   "id": "397d8111",
   "metadata": {},
   "source": []
  },
  {
   "cell_type": "markdown",
   "id": "d1b2f9e5",
   "metadata": {},
   "source": []
  },
  {
   "cell_type": "code",
   "execution_count": null,
   "id": "9c733c1b",
   "metadata": {
    "vscode": {
     "languageId": "plaintext"
    }
   },
   "outputs": [],
   "source": []
  },
  {
   "cell_type": "code",
   "execution_count": null,
   "id": "e3c4de67",
   "metadata": {
    "vscode": {
     "languageId": "plaintext"
    }
   },
   "outputs": [],
   "source": []
  },
  {
   "cell_type": "code",
   "execution_count": null,
   "id": "a7e35f94",
   "metadata": {
    "vscode": {
     "languageId": "plaintext"
    }
   },
   "outputs": [],
   "source": []
  },
  {
   "cell_type": "code",
   "execution_count": null,
   "id": "dc9f93ca",
   "metadata": {
    "vscode": {
     "languageId": "plaintext"
    }
   },
   "outputs": [],
   "source": []
  },
  {
   "cell_type": "code",
   "execution_count": null,
   "id": "f76cd0c3",
   "metadata": {
    "vscode": {
     "languageId": "plaintext"
    }
   },
   "outputs": [],
   "source": []
  },
  {
   "cell_type": "code",
   "execution_count": null,
   "id": "f4713d59",
   "metadata": {
    "vscode": {
     "languageId": "plaintext"
    }
   },
   "outputs": [],
   "source": []
  },
  {
   "cell_type": "code",
   "execution_count": null,
   "id": "8a4075c2",
   "metadata": {
    "vscode": {
     "languageId": "plaintext"
    }
   },
   "outputs": [],
   "source": []
  },
  {
   "cell_type": "code",
   "execution_count": null,
   "id": "2273f0c2",
   "metadata": {
    "vscode": {
     "languageId": "plaintext"
    }
   },
   "outputs": [],
   "source": []
  }
 ],
 "metadata": {
  "language_info": {
   "name": "python"
  }
 },
 "nbformat": 4,
 "nbformat_minor": 5
}
