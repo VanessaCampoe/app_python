{
 "cells": [
  {
   "cell_type": "code",
   "execution_count": null,
   "id": "a551864b",
   "metadata": {},
   "outputs": [],
   "source": []
  },
  {
   "cell_type": "markdown",
   "id": "144caa9d",
   "metadata": {},
   "source": [
    "# Markdowns da aula do dia 22/05/2025\n",
    "--- "
   ]
  },
  {
   "cell_type": "markdown",
   "id": "f311a499",
   "metadata": {},
   "source": [
    "## inserir links em markdown\n",
    "\n",
    "Esta é a forma de inserir links no markdown:\n",
    "[Clique para abrir a pagina do professor ] (https://github.com/alexmachadoribeiro)\n",
    "\n",
    "URL  do git do professor : https://github.com/alexmachadoribeiro"
   ]
  },
  {
   "cell_type": "markdown",
   "id": "ed1d5e4e",
   "metadata": {},
   "source": [
    "### Quote \n",
    "> Esta é um que ficara em destaque no seu notebokk, este sees recurso e muito interessante para \n",
    "destacar um trecho de texto do seu notebokk , ou para inserir o conerto de alguma palavra citada  de algum exemplo \n",
    "> \n",
    "> Este e um paragrafo que ficara inicia um novo quote.\n",
    "\n",
    "> **Digite um texto que ficara em negrito  dentro do quote, dando assim maior destaque ao texto**\n"
   ]
  },
  {
   "cell_type": "code",
   "execution_count": null,
   "id": "3ee47b80",
   "metadata": {},
   "outputs": [],
   "source": [
    "## Criando tabelas\n",
    "coluna 1 | coluna 2 \n",
    "---------|---------\n",
    "Linha 1  | linha 2\n",
    "linha 2  | linha 2\n",
    "linha 3  | linha 4"
   ]
  },
  {
   "cell_type": "markdown",
   "id": "4ea96e67",
   "metadata": {},
   "source": [
    "#HTML em Markdown"
   ]
  },
  {
   "cell_type": "markdown",
   "id": "bec219e7",
   "metadata": {},
   "source": [
    "<h5></h5> Este e um exemplo de HTML dentro do markdown</h5>\n",
    "<marquee>Texto em marquee</marquee>\n",
    "\n",
    "<div style=\"border: 1px solid green; border-radius: 5px; width: 100px; background-color: red\">\n",
    "  Este e um exemplo de um div com estilo.\n",
    "</div>"
   ]
  },
  {
   "cell_type": "markdown",
   "id": "ea938d12",
   "metadata": {},
   "source": [
    "### Meu quote personalizado  com HTML\n",
    "<div style= \"border:2px groove #16161d; border-radius: 5px; width: 100px; background-color:rgb(42, 42, 143); padding: 20px; box_shadow:10px 15 px black;\">\n",
    "  \n",
    "    <p>\n",
    "  Este texto esta dentro de uma div Html que simula uma quote em um notebook. de um notebook. So  para explicar  algo \n",
    "</div>"
   ]
  },
  {
   "cell_type": "markdown",
   "id": "31875f33",
   "metadata": {},
   "source": [
    "### Criação de formularios em markdown\n",
    "```html\n",
    "<input type=\"checkbox\" /><span>Opção 1 <</span><br/>\n",
    "<input type=\"checkbox\" /><span>Opção 2 <</span><br/>\n",
    "<input type=\"checkbox\" /><span>Opção 3 <</span><br/>\n",
    "<input type=\"checkbox\" /><span>Opção 4 <</span><br/>\n",
    "<br />\n",
    "<br />\n",
    "<input type=\"checkbox\" /><span>Java <</span><br/>\n",
    "<input type=\"checkbox\" /><span>Python <</span><br/>\n",
    "<input type=\"checkbox\" /><span>JavaScript <</span><br/>\n",
    "<input type=\"checkbox\" /><span>PHP <</span><br/>\n",
    "\n",
    "<br />\n",
    "<br />\n",
    "\n",
    "\n",
    "\n",
    "\n",
    "<input type=\"radio\" name=\"opcao\" /><span>Opção 1 <</span><br/>\n",
    "<input type=\"radio\" name=\"opcao\" /><span>Opção 2 <</span><br/>\n",
    "<input type=\"radio\" name=\"opcao\" /><span>Opção 3 <</span><br/>\n",
    "<input type=\"radio\" name=\"opcao\" /><span>Opção 4 <</span><br/>\n",
    "<br />\n",
    "\n"
   ]
  },
  {
   "cell_type": "markdown",
   "id": "fc22c09d",
   "metadata": {},
   "source": [
    "###  Inseriondo uma imagem no markdown\n",
    "<div styler = display: flex; justify-content: center; align-items: center;>\n",
    "  <img src=\"\"assets/Logo.png\" alt=\"dark\" style=\"width: 200px; height: 200px; border-radius: 50%; border: 2px solid #000;\"> "
   ]
  },
  {
   "cell_type": "markdown",
   "id": "4a16eadb",
   "metadata": {},
   "source": [
    "print(\"Hello World!!\")"
   ]
  },
  {
   "cell_type": "code",
   "execution_count": 1,
   "id": "9beb6259",
   "metadata": {},
   "outputs": [
    {
     "name": "stdout",
     "output_type": "stream",
     "text": [
      "Hello World!!\n"
     ]
    }
   ],
   "source": [
    "print(\"Hello World!!\")"
   ]
  },
  {
   "cell_type": "code",
   "execution_count": null,
   "id": "6c52a3e6",
   "metadata": {},
   "outputs": [
    {
     "name": "stdout",
     "output_type": "stream",
     "text": [
      "Célula com codigo_fonte Python\n"
     ]
    }
   ],
   "source": [
    "print(\"Célula com codigo_fonte Python\")\n",
    "x= 15\n",
    "y = 5 \n",
    "print (f\" O nome o filme é: O código dá  {x+y} \")"
   ]
  },
  {
   "cell_type": "markdown",
   "id": "b1f1f897",
   "metadata": {},
   "source": [
    "Fazendo um input "
   ]
  },
  {
   "cell_type": "code",
   "execution_count": null,
   "id": "c386e671",
   "metadata": {},
   "outputs": [
    {
     "name": "stdout",
     "output_type": "stream",
     "text": [
      "Vanessa\n"
     ]
    }
   ],
   "source": []
  },
  {
   "cell_type": "code",
   "execution_count": null,
   "metadata": {},
   "outputs": [],
   "source": [
    "nome = input (\"Informe seu nome :\")\n",
    "print (nome)"
   ]
  },
  {
   "cell_type": "code",
   "execution_count": null,
   "id": "8cc876ab",
   "metadata": {},
   "outputs": [],
   "source": []
  }
 ],
 "metadata": {
  "kernelspec": {
   "display_name": ".venv",
   "language": "python",
   "name": "python3"
  },
  "language_info": {
   "codemirror_mode": {
    "name": "ipython",
    "version": 3
   },
   "file_extension": ".py",
   "mimetype": "text/x-python",
   "name": "python",
   "nbconvert_exporter": "python",
   "pygments_lexer": "ipython3",
   "version": "3.13.2"
  }
 },
 "nbformat": 4,
 "nbformat_minor": 5
}
